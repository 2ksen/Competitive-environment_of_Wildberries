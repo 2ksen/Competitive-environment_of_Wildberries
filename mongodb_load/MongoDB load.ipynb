{
 "cells": [
  {
   "cell_type": "code",
   "execution_count": 2,
   "id": "4b63030a",
   "metadata": {},
   "outputs": [
    {
     "name": "stdout",
     "output_type": "stream",
     "text": [
      "Collecting pymongoNote: you may need to restart the kernel to use updated packages.\n",
      "  Downloading pymongo-4.6.0-cp39-cp39-win_amd64.whl (472 kB)\n",
      "Collecting dnspython<3.0.0,>=1.16.0\n",
      "  Downloading dnspython-2.4.2-py3-none-any.whl (300 kB)\n",
      "Installing collected packages: dnspython, pymongo\n",
      "Successfully installed dnspython-2.4.2 pymongo-4.6.0\n",
      "\n"
     ]
    }
   ],
   "source": [
    "pip install pymongo"
   ]
  },
  {
   "cell_type": "code",
   "execution_count": 4,
   "id": "b056f4f1",
   "metadata": {},
   "outputs": [],
   "source": [
    "import pymongo\n",
    "from pymongo.mongo_client import MongoClient\n",
    "import pandas as pd\n",
    "from datetime import datetime\n",
    "import json\n",
    "from tqdm.notebook import tqdm"
   ]
  },
  {
   "cell_type": "code",
   "execution_count": 5,
   "id": "d8f0d13f",
   "metadata": {},
   "outputs": [],
   "source": [
    "# Create the client\n",
    "client = MongoClient('localhost', 27017)"
   ]
  },
  {
   "cell_type": "code",
   "execution_count": 6,
   "id": "05ce3562",
   "metadata": {},
   "outputs": [
    {
     "name": "stdout",
     "output_type": "stream",
     "text": [
      "['admin', 'config', 'local', 'newdb', 'wb_inf', 'wball', 'wbtest']\n"
     ]
    }
   ],
   "source": [
    "print(client.list_database_names())"
   ]
  },
  {
   "cell_type": "code",
   "execution_count": 7,
   "id": "5605bd09",
   "metadata": {},
   "outputs": [],
   "source": [
    "db=client[\"wball\"]\n",
    "col = db[\"wbcat\"]\n",
    "col2 = db[\"wbsupp\"]"
   ]
  },
  {
   "cell_type": "code",
   "execution_count": 8,
   "id": "8d1d3d11",
   "metadata": {},
   "outputs": [
    {
     "data": {
      "application/vnd.jupyter.widget-view+json": {
       "model_id": "40ebfa280d084c3d854aa5e69d86149a",
       "version_major": 2,
       "version_minor": 0
      },
      "text/plain": [
       "  0%|          | 0/1498 [00:00<?, ?it/s]"
      ]
     },
     "metadata": {},
     "output_type": "display_data"
    },
    {
     "name": "stdout",
     "output_type": "stream",
     "text": [
      "Нет данных в 130237\n",
      "Нет данных в 130238\n"
     ]
    }
   ],
   "source": [
    "catwb = pd.read_excel('1_catwb_new_w_new_index.xlsx')\n",
    "\n",
    "n = 0\n",
    "for i in tqdm(range (0,len(catwb))):\n",
    "    cat_id = catwb['categoty_id'][i]\n",
    "    with open(f'Категория id {cat_id}.json',encoding = 'UTF-8') as f:\n",
    "        data = json.load(f)\n",
    "        try:\n",
    "            x = col.insert_many(data)\n",
    "        except:\n",
    "            print(f\"Нет данных в {cat_id}\")\n",
    "            continue"
   ]
  },
  {
   "cell_type": "code",
   "execution_count": 9,
   "id": "0d982ec7",
   "metadata": {},
   "outputs": [],
   "source": [
    "with open('1_supplier inf.json',encoding = 'UTF-8') as f:\n",
    "    datasup = json.load(f)\n",
    "    \n",
    "l = col2.insert_many(datasup)"
   ]
  },
  {
   "cell_type": "code",
   "execution_count": null,
   "id": "8ee17d03",
   "metadata": {},
   "outputs": [],
   "source": []
  }
 ],
 "metadata": {
  "kernelspec": {
   "display_name": "Python 3 (ipykernel)",
   "language": "python",
   "name": "python3"
  },
  "language_info": {
   "codemirror_mode": {
    "name": "ipython",
    "version": 3
   },
   "file_extension": ".py",
   "mimetype": "text/x-python",
   "name": "python",
   "nbconvert_exporter": "python",
   "pygments_lexer": "ipython3",
   "version": "3.9.12"
  }
 },
 "nbformat": 4,
 "nbformat_minor": 5
}
