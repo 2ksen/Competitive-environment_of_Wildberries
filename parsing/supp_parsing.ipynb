{
 "cells": [
  {
   "cell_type": "code",
   "execution_count": 12,
   "id": "8e927b3f",
   "metadata": {},
   "outputs": [],
   "source": [
    "import requests\n",
    "import json\n",
    "import pandas as pd\n",
    "from tqdm.notebook import tqdm"
   ]
  },
  {
   "cell_type": "code",
   "execution_count": 13,
   "id": "0c86e540",
   "metadata": {},
   "outputs": [],
   "source": [
    "catwb = pd.read_excel('1_catwb_new_w_new_index.xlsx')"
   ]
  },
  {
   "cell_type": "code",
   "execution_count": 14,
   "id": "11cffdf4",
   "metadata": {},
   "outputs": [],
   "source": [
    "def supplier_inf(data):\n",
    "    sup_list = []\n",
    "    headers = {'Accept': \"*/*\", 'User-Agent': \"Mozilla/5.0 (Windows NT 10.0; Win64; x64)\"}\n",
    "    for i in tqdm(range(0,len(data))):\n",
    "        key = data[i]\n",
    "        url = f'https://www.wildberries.ru/webapi/seller/data/short/{key}'\n",
    "        r = requests.get(url, headers=headers)\n",
    "        all_l = r.json()\n",
    "        sup_list.append(all_l)\n",
    "    return sup_list"
   ]
  },
  {
   "cell_type": "code",
   "execution_count": 15,
   "id": "e75406d0",
   "metadata": {},
   "outputs": [],
   "source": [
    "def save_excel(data, filename):\n",
    "    #сохранение результата в excel файл\n",
    "    df = pd.DataFrame(data)\n",
    "    writer = pd.ExcelWriter(f'{filename}.xlsx')\n",
    "    df.to_excel(writer, 'data')\n",
    "    writer.save()\n",
    "    print(f'Все сохранено в {filename}.xlsx')\n",
    "\n",
    "def save_json(data, filename):\n",
    "    #сохранение результата в json файл\n",
    "    with open(f'{filename}.json', 'w', encoding='UTF-8') as file:\n",
    "      json.dump(data, file, indent=2, ensure_ascii=False)\n",
    "      print(f'Данные сохранены в {filename}.json')"
   ]
  },
  {
   "cell_type": "code",
   "execution_count": 16,
   "id": "b77a8a4e",
   "metadata": {},
   "outputs": [
    {
     "data": {
      "application/vnd.jupyter.widget-view+json": {
       "model_id": "d37a0a0fd7dc4d49936e715f58509f7a",
       "version_major": 2,
       "version_minor": 0
      },
      "text/plain": [
       "  0%|          | 0/1498 [00:00<?, ?it/s]"
      ]
     },
     "metadata": {},
     "output_type": "display_data"
    }
   ],
   "source": [
    "#Информация по продавцам/магазинам\n",
    "shop_id=[]\n",
    "z=0\n",
    "p=0\n",
    "\n",
    "for i in tqdm(range (0,len(catwb))):\n",
    "    cat_id = catwb['categoty_id'][i]\n",
    "    url = 'https://www.wildberries.ru'+ catwb['category_url'][i]    \n",
    "    try:\n",
    "        with open(f'Категория id {cat_id}.json',encoding = 'UTF-8') as f:\n",
    "            data = json.load(f)\n",
    "            for d in data:\n",
    "                shop = d['id магазина']\n",
    "                shop_id.append(shop)\n",
    "            z +=1\n",
    "    except:\n",
    "        print(f'Не нашел id {cat_id}')\n",
    "        p+=1\n",
    "        continue"
   ]
  },
  {
   "cell_type": "code",
   "execution_count": 18,
   "id": "b06fbaf1",
   "metadata": {},
   "outputs": [
    {
     "name": "stdout",
     "output_type": "stream",
     "text": [
      "Данные сохранены в 1_id shop.json\n"
     ]
    },
    {
     "data": {
      "application/vnd.jupyter.widget-view+json": {
       "model_id": "4475c7174e8940de9e67807a37ab66ee",
       "version_major": 2,
       "version_minor": 0
      },
      "text/plain": [
       "  0%|          | 0/219368 [00:00<?, ?it/s]"
      ]
     },
     "metadata": {},
     "output_type": "display_data"
    },
    {
     "name": "stdout",
     "output_type": "stream",
     "text": [
      "Данные сохранены в 1_supplier inf.json\n"
     ]
    }
   ],
   "source": [
    "shop_data = list(set(shop_id))\n",
    "save_json(shop_data,'1_id shop')\n",
    "\n",
    "sup_inf = supplier_inf(shop_data)\n",
    "save_json(sup_inf,'1_supplier inf')"
   ]
  },
  {
   "cell_type": "code",
   "execution_count": null,
   "id": "54eb3759",
   "metadata": {},
   "outputs": [],
   "source": []
  }
 ],
 "metadata": {
  "kernelspec": {
   "display_name": "Python 3 (ipykernel)",
   "language": "python",
   "name": "python3"
  },
  "language_info": {
   "codemirror_mode": {
    "name": "ipython",
    "version": 3
   },
   "file_extension": ".py",
   "mimetype": "text/x-python",
   "name": "python",
   "nbconvert_exporter": "python",
   "pygments_lexer": "ipython3",
   "version": "3.9.12"
  }
 },
 "nbformat": 4,
 "nbformat_minor": 5
}
